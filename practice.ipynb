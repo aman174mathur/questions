{
 "cells": [
  {
   "cell_type": "code",
   "execution_count": 3,
   "metadata": {},
   "outputs": [
    {
     "name": "stdout",
     "output_type": "stream",
     "text": [
      "{10: 40, 20: 50, 300: 60}\n",
      "{10: 40, 20: 50, 300: 60}\n"
     ]
    }
   ],
   "source": [
    "l1=[10,20,300]\n",
    "l2=[40,50,60]\n",
    "# {10:40,  20:50,  300:60}\n",
    "# note using zip and without zip\n",
    "\n",
    "dictionary = dict(zip(l1 , l2))\n",
    "print(dictionary)\n",
    "\n",
    "\n",
    "for i in range(0 , len(l1)):\n",
    "    dictionary[l1[i]]=l2[i]\n",
    "print(dictionary)"
   ]
  },
  {
   "cell_type": "code",
   "execution_count": 5,
   "metadata": {},
   "outputs": [
    {
     "name": "stdout",
     "output_type": "stream",
     "text": [
      "aman\n",
      "rahul\n"
     ]
    }
   ],
   "source": [
    "# Q2 {name: marks .. . . . .  ======>} multiple elements\n",
    "# now take a input from the user for score variable\n",
    "# - print the key who have more value then the score variable\n",
    "\n",
    "marks = {\"aman\":50  , \"rahul\": 54  , \"tina\":33 , \"anjali\":43}\n",
    "score = int(input(\"enter the score:\"))\n",
    "\n",
    "for key, value in marks.items():\n",
    "    if value>=score:\n",
    "        print(key)\n",
    "    "
   ]
  },
  {
   "cell_type": "code",
   "execution_count": 3,
   "metadata": {},
   "outputs": [
    {
     "name": "stdout",
     "output_type": "stream",
     "text": [
      "{10: 19, 11: 20, 14: 23}\n"
     ]
    }
   ],
   "source": [
    "dict1 = {10:19,  11:20,  13:\"NONE\" , 14: 23  , 16 : \"NONE\"}\n",
    "# delete the key-value pair where the value is none\n",
    "\n",
    "dict1 = {k: v for k, v in dict1.items() if v != \"NONE\"}\n",
    "\n",
    "print(dict1)"
   ]
  },
  {
   "cell_type": "code",
   "execution_count": null,
   "metadata": {},
   "outputs": [
    {
     "name": "stdout",
     "output_type": "stream",
     "text": [
      "{'x': 25, 'y': 49, 'z': 100}\n"
     ]
    }
   ],
   "source": [
    "dict1 = {\"x\":5, \"y\":7, \"z\":10}\n",
    "# print new dictionary as square of each key {x:25, y:49,  z:100}\n",
    "\n",
    "dict2 = {key: value**2 for key, value in dict1.items()}\n",
    "print(dict2)  "
   ]
  },
  {
   "cell_type": "code",
   "execution_count": 2,
   "metadata": {},
   "outputs": [
    {
     "name": "stdout",
     "output_type": "stream",
     "text": [
      "{1: 1, 2: 8, 3: 27, 4: 64}\n"
     ]
    }
   ],
   "source": [
    "# create a dictionary as cube of number from 1 to 5\n",
    "# {1:1, 2:8, 3:27, 4:64, 5:125}\n",
    "# Note use only thing we have learnt\n",
    "\n",
    "dict1 = {}\n",
    "n = int(input(\"how many values ypu want :\"))\n",
    "for i in range(1,n):\n",
    "    dict1[i] = i**3\n",
    "print(dict1)"
   ]
  },
  {
   "cell_type": "code",
   "execution_count": 3,
   "metadata": {},
   "outputs": [
    {
     "name": "stdout",
     "output_type": "stream",
     "text": [
      "{'average': 7.333333333333333, 'max': 10}\n"
     ]
    }
   ],
   "source": [
    "# {\"x\":5, \"y\":7, \"z\":10}\n",
    "# get the ans in new dictionary {\"average\":7.3 ,   \"max\":10}}\n",
    "\n",
    "\n",
    "dict1 = {\"x\": 5, \"y\": 7, \"z\": 10}\n",
    "list_of_values = []\n",
    "\n",
    "list_of_values.extend(dict1.values())  \n",
    "\n",
    "avg_value = sum(list_of_values) / len(list_of_values)  \n",
    "max_value = max(list_of_values)  \n",
    "\n",
    "dic2 = {\"average\": avg_value, \"max\": max_value}  \n",
    "\n",
    "print(dic2)"
   ]
  },
  {
   "cell_type": "code",
   "execution_count": 3,
   "metadata": {},
   "outputs": [
    {
     "name": "stdout",
     "output_type": "stream",
     "text": [
      "{10: 19, 11: 20, 14: 23}\n"
     ]
    }
   ],
   "source": [
    "# dict1 = {10:19,  11:20,  13:\"NONE\" , 14: 23  , 16 : \"NONE\"}\n",
    "\n",
    "for key , value in list(dict1.items()):\n",
    "    if value == \"NONE\":\n",
    "        del dict1[key]\n",
    "print(dict1)\n",
    "\n",
    "# d = {1: 'a', 2: '', 3: 'b', 4: 'none'}\n",
    "# for key, value in list(d.items()):\n",
    "#     if value == 'none':\n",
    "#         del d[key]\n",
    "# print(d)"
   ]
  },
  {
   "cell_type": "code",
   "execution_count": null,
   "metadata": {},
   "outputs": [],
   "source": [
    "# first class function are functions which can be used as arguments to other functions \n",
    "# and also can be treated like any other variable \n",
    "# returned as value from other func \n",
    "# stored in data structures\n",
    "\n",
    "# high order function \n",
    "# takes one or more ffunctions as an argument \n",
    "# returns a functions as its result "
   ]
  }
 ],
 "metadata": {
  "kernelspec": {
   "display_name": "base",
   "language": "python",
   "name": "python3"
  },
  "language_info": {
   "codemirror_mode": {
    "name": "ipython",
    "version": 3
   },
   "file_extension": ".py",
   "mimetype": "text/x-python",
   "name": "python",
   "nbconvert_exporter": "python",
   "pygments_lexer": "ipython3",
   "version": "3.12.7"
  }
 },
 "nbformat": 4,
 "nbformat_minor": 2
}
