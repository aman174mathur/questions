{
 "cells": [
  {
   "cell_type": "code",
   "execution_count": 25,
   "metadata": {},
   "outputs": [
    {
     "name": "stdout",
     "output_type": "stream",
     "text": [
      "hello\n"
     ]
    }
   ],
   "source": [
    "print(\"hello\")"
   ]
  },
  {
   "cell_type": "code",
   "execution_count": 26,
   "metadata": {},
   "outputs": [
    {
     "name": "stdout",
     "output_type": "stream",
     "text": [
      "\n",
      "1 \n",
      "1 2 \n",
      "1 2 3 \n",
      "1 2 3 4 \n",
      "1 2 3 4 5 \n"
     ]
    }
   ],
   "source": [
    "n = 5 \n",
    "for i in range(n+1):\n",
    "    for j in range(i+1):\n",
    "        print(\"\", end = \"\")\n",
    "    for k in range(1,i+1):\n",
    "        print(k , end = \" \")\n",
    "    print()"
   ]
  },
  {
   "cell_type": "code",
   "execution_count": 27,
   "metadata": {},
   "outputs": [
    {
     "name": "stdout",
     "output_type": "stream",
     "text": [
      "     *\n",
      "    ***\n",
      "   *****\n",
      "  *******\n",
      " *********\n",
      " ********\n",
      "  ******\n",
      "   ****\n",
      "    **\n"
     ]
    }
   ],
   "source": [
    "n = 5 \n",
    "for i in range(n):\n",
    "    for j in range(n-i):\n",
    "        print(\" \", end=\"\")\n",
    "    for k in range(i):\n",
    "        print(\"*\", end=\"\")\n",
    "    for l in range(i+1):\n",
    "        print(\"*\", end=\"\")\n",
    "    print()\n",
    "\n",
    "for i in range(n-2,-1,-1):\n",
    "    for j in range(n-i-1):\n",
    "        print(\" \", end=\"\")\n",
    "    for k in range(i+1):\n",
    "        print(\"*\", end=\"\")\n",
    "    for l in range(i+1):\n",
    "        print(\"*\", end=\"\")\n",
    "    print()\n"
   ]
  },
  {
   "cell_type": "code",
   "execution_count": 28,
   "metadata": {},
   "outputs": [
    {
     "name": "stdout",
     "output_type": "stream",
     "text": [
      "    * \n",
      "   * * \n",
      "  * * * \n",
      " * * * * \n",
      "* * * * * \n",
      " * * * * \n",
      "  * * * \n",
      "   * * \n",
      "    * \n"
     ]
    }
   ],
   "source": [
    "def diamond_pattern(n):\n",
    "    for i in range(n):\n",
    "        print(\" \" * (n - i - 1) + \"* \" * (i + 1))\n",
    "    for i in range(n - 2, -1, -1):\n",
    "        print(\" \" * (n - i - 1) + \"* \" * (i + 1))\n",
    "\n",
    "diamond_pattern(5)\n"
   ]
  },
  {
   "cell_type": "code",
   "execution_count": 29,
   "metadata": {},
   "outputs": [
    {
     "name": "stdout",
     "output_type": "stream",
     "text": [
      "\n",
      "* \n",
      "* * \n",
      "* * * \n",
      "* * * * \n"
     ]
    }
   ],
   "source": [
    "n = 5 \n",
    "for i in range(n):\n",
    "    for j in range(i):\n",
    "        print(\"*\", end=\" \")\n",
    "    print()"
   ]
  },
  {
   "cell_type": "code",
   "execution_count": 30,
   "metadata": {},
   "outputs": [
    {
     "name": "stdout",
     "output_type": "stream",
     "text": [
      "1 \n",
      "2 3 \n",
      "4 5 6 \n",
      "7 8 9 10 \n",
      "11 12 13 14 15 \n"
     ]
    }
   ],
   "source": [
    "n=5\n",
    "count = 1\n",
    "for i in range(n):\n",
    "    for j in range(i+1):\n",
    "        print(count , end = \" \")\n",
    "        count += 1\n",
    "    print()"
   ]
  },
  {
   "cell_type": "code",
   "execution_count": 31,
   "metadata": {},
   "outputs": [
    {
     "name": "stdout",
     "output_type": "stream",
     "text": [
      "* * * * * \n",
      " * * * * \n",
      "  * * * \n",
      "   * * \n",
      "    * \n"
     ]
    }
   ],
   "source": [
    "for i in range(n , 0 ,-1):\n",
    "    print(\" \"*(n-i) + \"* \"* i)\n",
    "    "
   ]
  },
  {
   "cell_type": "code",
   "execution_count": 32,
   "metadata": {},
   "outputs": [
    {
     "name": "stdout",
     "output_type": "stream",
     "text": [
      "1 \n",
      "1 1 \n",
      "1 2 1 \n",
      "1 3 3 1 \n",
      "1 4 6 4 1 \n"
     ]
    }
   ],
   "source": [
    "n = 5\n",
    "for i in range(n):\n",
    "    num = 1  # Reset num to 1 at the start of each row\n",
    "    for j in range(i + 1):\n",
    "        print(num, end=\" \")\n",
    "        num = num * (i - j) // (j + 1)  # Update num using binomial coefficient logic\n",
    "    print()"
   ]
  },
  {
   "cell_type": "code",
   "execution_count": 33,
   "metadata": {},
   "outputs": [
    {
     "name": "stdout",
     "output_type": "stream",
     "text": [
      "1 \n",
      "1 2 \n",
      "1 2 3 \n",
      "1 2 3 4 \n",
      "1 2 3 4 5 \n"
     ]
    }
   ],
   "source": [
    "n=5\n",
    "for i in range(n):\n",
    "    for j in range(i+1):\n",
    "        print(j+1, end=\" \")\n",
    "    print()"
   ]
  },
  {
   "cell_type": "code",
   "execution_count": 34,
   "metadata": {},
   "outputs": [
    {
     "name": "stdout",
     "output_type": "stream",
     "text": [
      "[7, 3, 3]\n"
     ]
    }
   ],
   "source": [
    "# print random integers\n",
    "import random\n",
    "print([random.randint(1,10) for x in range(3)])"
   ]
  },
  {
   "cell_type": "code",
   "execution_count": 35,
   "metadata": {},
   "outputs": [
    {
     "name": "stdout",
     "output_type": "stream",
     "text": [
      "[67, 44, 77, 75, 92, 93, 53, 23, 56, 87]\n"
     ]
    }
   ],
   "source": [
    "# how to print 10 random numbers between 1 and 100\n",
    "print(random.choices(range(1, 101), k=10))"
   ]
  },
  {
   "cell_type": "code",
   "execution_count": 36,
   "metadata": {},
   "outputs": [
    {
     "name": "stdout",
     "output_type": "stream",
     "text": [
      "* * * * * * \n",
      "*         * \n",
      "*         * \n",
      "*         * \n",
      "*         * \n",
      "* * * * * * \n"
     ]
    }
   ],
   "source": [
    "#  print square hollow \n",
    "n=6\n",
    "for i in range(n):\n",
    "    for j in range(n):\n",
    "        if i==0 or i==n-1 or j==0 or j==n- 1:\n",
    "            print(\"*\",end=\" \")\n",
    "        else:\n",
    "            print(\" \",end=\" \")\n",
    "    print()\n"
   ]
  },
  {
   "cell_type": "code",
   "execution_count": 37,
   "metadata": {},
   "outputs": [
    {
     "name": "stdout",
     "output_type": "stream",
     "text": [
      "[4, 5, 2]\n"
     ]
    }
   ],
   "source": [
    "#  how to fix random values \n",
    "random.seed(4)  # Set the seed for reproducibility\n",
    "print([random.randint(1, 10) for i in range(3)])  # This will always return the same sequence of random numbers"
   ]
  },
  {
   "cell_type": "code",
   "execution_count": 38,
   "metadata": {},
   "outputs": [
    {
     "name": "stdout",
     "output_type": "stream",
     "text": [
      "          1   \n",
      "        1   1   \n",
      "      1   2   1   \n",
      "    1   3   3   1   \n",
      "  1   4   6   4   1   \n"
     ]
    }
   ],
   "source": [
    "n = 5\n",
    "for i in range(n):\n",
    "    num = 1 \n",
    "    for k in range(n-i):\n",
    "        print(\" \" , end = \" \") \n",
    "    for j in range(i + 1):\n",
    "        print(num, end=\"   \")\n",
    "        num = num * (i - j) // (j + 1)  \n",
    "    print()"
   ]
  },
  {
   "cell_type": "code",
   "execution_count": 39,
   "metadata": {},
   "outputs": [
    {
     "name": "stdout",
     "output_type": "stream",
     "text": [
      "*        *\n",
      "**      **\n",
      "***    ***\n",
      "****  ****\n",
      "**********\n",
      "****  ****\n",
      "***    ***\n",
      "**      **\n",
      "*        *\n"
     ]
    }
   ],
   "source": [
    "# print butterfly pattern\n",
    "for i in range(1, n + 1):\n",
    "    print(\"*\" * i + \" \" * (2 * (n - i)) + \"*\" * i)\n",
    "for i in range(n - 1, 0, -1):\n",
    "    print(\"*\" * i + \" \" * (2 * (n - i)) + \"*\" * i)"
   ]
  },
  {
   "cell_type": "code",
   "execution_count": 40,
   "metadata": {},
   "outputs": [
    {
     "name": "stdout",
     "output_type": "stream",
     "text": [
      "*                 * \n",
      "* *             * * \n",
      "* * *         * * * \n",
      "* * * *     * * * * \n",
      "* * * * * * * * * * \n",
      "* * * *     * * * * \n",
      "* * *         * * * \n",
      "* *             * * \n",
      "*                 * \n"
     ]
    }
   ],
   "source": [
    "n = 5\n",
    "for i in range(1, n + 1):\n",
    "    print(\"* \" * i + \"  \" * (n - i) + \"  \" * (n - i) + \"* \" * i)\n",
    "for i in range(n - 1, 0, -1):\n",
    "    print(\"* \" * i + \"  \" * (n - i) + \"  \" * (n - i) + \"* \" * i)\n"
   ]
  },
  {
   "cell_type": "code",
   "execution_count": 41,
   "metadata": {},
   "outputs": [
    {
     "name": "stdout",
     "output_type": "stream",
     "text": [
      "% % % % % \n",
      "% % % % % \n",
      "% % % % % \n",
      "% % % % % \n",
      "% % % % % \n"
     ]
    }
   ],
   "source": [
    "n=5\n",
    "for i in range(n):\n",
    "    for j in range(n):\n",
    "        print(\"%\" , end = \" \")\n",
    "    print()"
   ]
  },
  {
   "cell_type": "code",
   "execution_count": 42,
   "metadata": {},
   "outputs": [
    {
     "name": "stdout",
     "output_type": "stream",
     "text": [
      "* * * * \n",
      "* * * \n",
      "* * \n",
      "* \n"
     ]
    }
   ],
   "source": [
    "n=4\n",
    "for  i in range(n):\n",
    "    for j in range(n-i):\n",
    "        print(\"*\" , end=\" \")\n",
    "    print()"
   ]
  },
  {
   "cell_type": "code",
   "execution_count": 43,
   "metadata": {},
   "outputs": [
    {
     "name": "stdout",
     "output_type": "stream",
     "text": [
      "0 1 2 3 \n",
      "0 1 2 \n",
      "0 1 \n",
      "0 \n"
     ]
    }
   ],
   "source": [
    "n=4\n",
    "for i in range(n):\n",
    "    for j in range(n-i):\n",
    "        print(j ,end=\" \")\n",
    "    print()"
   ]
  },
  {
   "cell_type": "code",
   "execution_count": 44,
   "metadata": {},
   "outputs": [
    {
     "name": "stdout",
     "output_type": "stream",
     "text": [
      "10 11 12 13 14 \n",
      "15 16 17 18 \n",
      "19 20 21 \n",
      "22 23 \n",
      "24 \n"
     ]
    }
   ],
   "source": [
    "num = 10\n",
    "n =5\n",
    "for i in range(n):\n",
    "    for j in range(n-i):\n",
    "        print(num , end = \" \")\n",
    "        num+=1\n",
    "    print()"
   ]
  },
  {
   "cell_type": "code",
   "execution_count": 45,
   "metadata": {},
   "outputs": [
    {
     "name": "stdout",
     "output_type": "stream",
     "text": [
      "0123\n",
      "012\n",
      "01\n",
      "0\n"
     ]
    }
   ],
   "source": [
    "n=4\n",
    "for i in range(n):\n",
    "    for j in range(n-i):\n",
    "        print(j, end=\"\")\n",
    "    print()"
   ]
  },
  {
   "cell_type": "code",
   "execution_count": 46,
   "metadata": {},
   "outputs": [
    {
     "name": "stdout",
     "output_type": "stream",
     "text": [
      "1234\n",
      "234\n",
      "34\n",
      "4\n"
     ]
    }
   ],
   "source": [
    "1234\n",
    "234\n",
    "34\n",
    "4\n",
    "\n",
    "num = 1234\n",
    "\n",
    "for i in range(4):\n",
    "    print(num)\n",
    "    if len(str(num)) > 1:\n",
    "        num = int(str(num)[1:])  # Remove the first digit\n",
    "    else:\n",
    "        break  # Exit the loop if num becomes empty\n"
   ]
  },
  {
   "cell_type": "code",
   "execution_count": 47,
   "metadata": {},
   "outputs": [
    {
     "name": "stdout",
     "output_type": "stream",
     "text": [
      "  1 0 1 0 1 \n",
      "    2 0 2 0 \n",
      "      3 0 3 \n",
      "        4 0 \n",
      "          5 \n"
     ]
    }
   ],
   "source": [
    "n=5\n",
    "num=1\n",
    "for i in range(n):\n",
    "    for j in range(i+1):\n",
    "        print(\" \", end=\" \")\n",
    "    for k in range(n-i):\n",
    "        if k==0 or k==2 or k==4:\n",
    "            print(num, end=\" \")\n",
    "        else:\n",
    "            print(0, end=\" \")\n",
    "    print()\n",
    "    num+=1"
   ]
  },
  {
   "cell_type": "code",
   "execution_count": 48,
   "metadata": {},
   "outputs": [
    {
     "name": "stdout",
     "output_type": "stream",
     "text": [
      "* * * * * \n",
      "* * * * \n",
      "* * * \n",
      "* * \n",
      "* \n",
      "* \n",
      "* * \n",
      "* * * \n",
      "* * * * \n",
      "* * * * * \n"
     ]
    }
   ],
   "source": [
    "n=5\n",
    "for i in range(n):\n",
    "    for j in range(n-i):\n",
    "        print(\"*\", end=\" \")\n",
    "    print()\n",
    "for i in range(n):\n",
    "    for j in range(i+1):\n",
    "        print(\"*\", end=\" \")\n",
    "    print()"
   ]
  },
  {
   "cell_type": "code",
   "execution_count": 49,
   "metadata": {},
   "outputs": [
    {
     "name": "stdout",
     "output_type": "stream",
     "text": [
      "  * * * * * \n",
      "    *     * \n",
      "      *   * \n",
      "        * * \n",
      "          * \n"
     ]
    }
   ],
   "source": [
    "n=5\n",
    "for i in range(n):\n",
    "    for j in range(i+1):\n",
    "        print(\" \", end =\" \")\n",
    "    for k in range(n-i):\n",
    "        if k== 0 or k == n-i-1 or i==0:\n",
    "            print(\"*\", end = \" \")\n",
    "        else:\n",
    "            print(\" \", end = \" \")\n",
    "    print()"
   ]
  },
  {
   "cell_type": "code",
   "execution_count": 50,
   "metadata": {},
   "outputs": [
    {
     "name": "stdout",
     "output_type": "stream",
     "text": [
      "1 2 3 4 5 \n",
      "6     7 \n",
      "8   9 \n",
      "10 11 \n",
      "12 \n"
     ]
    }
   ],
   "source": [
    "n=5\n",
    "num = 1\n",
    "for i in range(n):\n",
    "    for j in range(n-i):\n",
    "        if j ==0 or j == n-i-1 or i == 0:\n",
    "            print(num, end=\" \")\n",
    "            num += 1\n",
    "        else:\n",
    "            print(\" \", end  = \" \")\n",
    "    print()\n",
    "       "
   ]
  },
  {
   "cell_type": "code",
   "execution_count": 51,
   "metadata": {},
   "outputs": [
    {
     "name": "stdout",
     "output_type": "stream",
     "text": [
      "1 2 3 4 5 \n",
      "16 17 18 19 6 \n",
      "15 24 25 20 7 \n",
      "14 23 22 21 8 \n",
      "13 12 11 10 9 \n"
     ]
    }
   ],
   "source": [
    "def printSpiral(size):\n",
    "\t# Create row and col to traverse rows and columns\n",
    "\trow, col = 0, 0\n",
    "\n",
    "\tboundary = size - 1\n",
    "\tsizeLeft = size - 1\n",
    "\tflag = 1\n",
    "\n",
    "\t# Variable to determine the movement\n",
    "\t# r = right, l = left, d = down, u = upper\n",
    "\tmove = 'r'\n",
    "\n",
    "\t# Array for matrix\n",
    "\tmatrix = [[0 for j in range(size)] for i in range(size)]\n",
    "\n",
    "\tfor i in range(1, size * size + 1):\n",
    "\t\t# Assign the value\n",
    "\t\tmatrix[row][col] = i\n",
    "\n",
    "\t\t# switch-case to determine the next index\n",
    "\t\tif move == 'r':\n",
    "\t\t\tcol += 1\n",
    "\t\telif move == 'l':\n",
    "\t\t\tcol -= 1\n",
    "\t\telif move == 'u':\n",
    "\t\t\trow -= 1\n",
    "\t\telif move == 'd':\n",
    "\t\t\trow += 1\n",
    "\n",
    "\t\t# Check if the matrix has reached array boundary\n",
    "\t\tif i == boundary:\n",
    "\t\t\t# Add the left size for the next boundary\n",
    "\t\t\tboundary += sizeLeft\n",
    "\n",
    "\t\t\t# If 2 rotations have been made,\n",
    "\t\t\t# decrease the size left by 1\n",
    "\t\t\tif flag != 2:\n",
    "\t\t\t\tflag = 2\n",
    "\t\t\telse:\n",
    "\t\t\t\tflag = 1\n",
    "\t\t\t\tsizeLeft -= 1\n",
    "\n",
    "\t\t\t# switch-case to rotate the movement\n",
    "\t\t\tif move == 'r':\n",
    "\t\t\t\tmove = 'd'\n",
    "\t\t\telif move == 'd':\n",
    "\t\t\t\tmove = 'l'\n",
    "\t\t\telif move == 'l':\n",
    "\t\t\t\tmove = 'u'\n",
    "\t\t\telif move == 'u':\n",
    "\t\t\t\tmove = 'r'\n",
    "\n",
    "\t# Print the matrix\n",
    "\tfor row in range(size):\n",
    "\t\tfor col in range(size):\n",
    "\t\t\tn = matrix[row][col]\n",
    "\t\t\tprint(n, end=' ' if n < 10 else ' ')\n",
    "\t\tprint()\n",
    "\n",
    "# Driver Code\n",
    "size = 5\n",
    "\n",
    "# Print the Spiral Pattern\n",
    "printSpiral(size)\n"
   ]
  },
  {
   "cell_type": "code",
   "execution_count": 52,
   "metadata": {},
   "outputs": [
    {
     "name": "stdout",
     "output_type": "stream",
     "text": [
      "--*\n",
      "-***\n",
      "*****\n"
     ]
    }
   ],
   "source": [
    "n=3\n",
    "for i in range(n):\n",
    "    for j in range(n-i-1):\n",
    "        print(\"-\", end=\"\")\n",
    "    for k in range( 2*i+1):\n",
    "        print(\"*\", end=\"\")\n",
    "    print()"
   ]
  },
  {
   "cell_type": "code",
   "execution_count": 53,
   "metadata": {},
   "outputs": [
    {
     "name": "stdout",
     "output_type": "stream",
     "text": [
      "* * * * * * * \n",
      "- * * * * * \n",
      "- - * * * \n",
      "- - - * \n"
     ]
    }
   ],
   "source": [
    "n=4\n",
    "for i in range(n):\n",
    "    for j in range(i):\n",
    "        print(\"-\" , end = \" \")\n",
    "    for k in range(n-i):\n",
    "        print(\"*\" , end = \" \")\n",
    "    for l in range(n-i-1):\n",
    "        print(\"*\" , end = \" \")\n",
    "    print()"
   ]
  },
  {
   "cell_type": "code",
   "execution_count": 54,
   "metadata": {},
   "outputs": [],
   "source": [
    "# list \n",
    "# collectionn of elements\n",
    "# mutable index postion\n",
    "# string is a iterable\n",
    "# pop ,remove \n",
    "# pop = remove last element from list\n",
    "# remove = remove first occurence of element from list"
   ]
  },
  {
   "cell_type": "code",
   "execution_count": 55,
   "metadata": {},
   "outputs": [
    {
     "name": "stdout",
     "output_type": "stream",
     "text": [
      "0 10\n",
      "sorting [80, 10, 20, 60, 9]\n"
     ]
    }
   ],
   "source": [
    "list2 = [10,20,60,80,9]\n",
    "for i in range(0,1):\n",
    "    print(i,list2[i])\n",
    "    for j in range( i+1, len(list2)):\n",
    "        if (list2[i]<list2[j]):\n",
    "            list2[i] , list2[j] = list2[j] , list2[i]\n",
    "print(\"sorting\" , list2)\n"
   ]
  },
  {
   "cell_type": "code",
   "execution_count": 56,
   "metadata": {},
   "outputs": [
    {
     "name": "stdout",
     "output_type": "stream",
     "text": [
      "0 1\n",
      "1 1\n",
      "2 5\n",
      "3 3\n",
      "4 6\n",
      "5 4\n",
      "0 [7, 1, 5, 3, 6, 4]\n"
     ]
    }
   ],
   "source": [
    "# 121. Best Time to Buy and Sell Stock\n",
    "# Easy\n",
    "# Topics\n",
    "# Companies\n",
    "# You are given an array prices where prices[i] is the price of a given stock on the ith day.\n",
    "\n",
    "# You want to maximize your profit by choosing a single day to buy one stock and choosing a different day in the future to sell that stock.\n",
    "\n",
    "# Return the maximum profit you can achieve from this transaction. If you cannot achieve any profit, return 0.\n",
    "\n",
    " \n",
    "\n",
    "# Example 1:\n",
    "\n",
    "# Input: prices = [7,1,5,3,6,4]\n",
    "# Output: 5\n",
    "# Explanation: Buy on day 2 (price = 1) and sell on day 5 (price = 6), profit = 6-1 = 5.\n",
    "# Note that buying on day 2 and selling on day 1 is not allowed because you must buy before you sell.\n",
    "# Example 2:\n",
    "\n",
    "# Input: prices = [7,6,4,3,1]\n",
    "# Output: 0\n",
    "# Explanation: In this case, no transactions are done and the max profit = 0.\n",
    "\n",
    "prices = [7,1,5,3,6,4]\n",
    "for i in range(0,1):\n",
    "    print(i,prices[1])\n",
    "    for j in range(1,6):\n",
    "        print(j,prices[j])\n",
    "        if prices[j] > prices[i]:\n",
    "            print(\"buy on day\",i,\"sell on day\",j,\"profit\",prices[j]- prices[i])\n",
    "            break\n",
    "        # Output: 0 [1, 5, 3, 6, 4]\n",
    "print( 0,prices)\n",
    "\n",
    " "
   ]
  },
  {
   "cell_type": "code",
   "execution_count": 57,
   "metadata": {},
   "outputs": [
    {
     "name": "stdout",
     "output_type": "stream",
     "text": [
      "5\n"
     ]
    }
   ],
   "source": [
    "price=[7,1,5,3,6,4]\n",
    "max1 = 0\n",
    "for i in range(0,len(price)):\n",
    "    for j in range(i+1,len(price)):\n",
    "        if(price[j]-price[i]> max1):\n",
    "            max1=price[j]-price[i]\n",
    "print(max1)"
   ]
  },
  {
   "cell_type": "code",
   "execution_count": 58,
   "metadata": {},
   "outputs": [
    {
     "name": "stdout",
     "output_type": "stream",
     "text": [
      "5\n"
     ]
    }
   ],
   "source": [
    "#  using one loop\n",
    "price = [7, 1, 5, 3, 6, 4]\n",
    "min_price = float('inf')\n",
    "max_profit = 0\n",
    "\n",
    "for p in price:\n",
    "    if p < min_price:\n",
    "        min_price = p\n",
    "    elif p - min_price > max_profit:\n",
    "        max_profit = p - min_price\n",
    "\n",
    "print(max_profit)"
   ]
  },
  {
   "cell_type": "markdown",
   "metadata": {},
   "source": [
    "list = sort that list but with one loop \n",
    "\n",
    "two sum probelem leetcode \n",
    "\n",
    "plusone ques leetcode\n",
    "\n",
    "you have been given two list having same number of elements and you have to merge \n",
    "both the list by removing the duplicate elements and return the merged list with a \n",
    "single loop dont use zip and enuerate "
   ]
  },
  {
   "cell_type": "code",
   "execution_count": 59,
   "metadata": {},
   "outputs": [
    {
     "name": "stdout",
     "output_type": "stream",
     "text": [
      "[10, 20, 30, 40, 50]\n"
     ]
    }
   ],
   "source": [
    "list1 = [10, 50, 40, 30, 20]\n",
    "# sort using one loop\n",
    "for i in range(len(list1)):\n",
    "    min_index = i\n",
    "    # find the minimum element in the unsorted part of the list\n",
    "    for j in range(i + 1, len(list1)):\n",
    "        if list1[j] < list1[min_index]:\n",
    "            min_index = j\n",
    "    # swap the found minimum element with the first element of the unsorted part of the list\n",
    "    list1[i], list1[min_index] = list1[min_index], list1[i]\n",
    "\n",
    "print(list1)  # Output: [10, 20, 30, 40, 50]\n"
   ]
  },
  {
   "cell_type": "code",
   "execution_count": 60,
   "metadata": {},
   "outputs": [
    {
     "name": "stdout",
     "output_type": "stream",
     "text": [
      "[0, 1]\n"
     ]
    }
   ],
   "source": [
    "# two sum probelem \n",
    "# Input: nums = [2,7,11,15], target = 9\n",
    "# Output: [0,1]\n",
    "nums = [2, 7, 11, 15]\n",
    "target = 9\n",
    "start = 0  # Corrected from nums[0] to 0\n",
    "end = len(nums) - 1\n",
    "\n",
    "# Two-pointer technique\n",
    "while start < end:\n",
    "    current_sum = nums[start] + nums[end]\n",
    "    \n",
    "    if current_sum == target:\n",
    "        print([start, end])\n",
    "        break  # Exit once the pair is found\n",
    "    \n",
    "    elif current_sum < target:\n",
    "        start += 1  # Move left pointer forward\n",
    "    \n",
    "    else:\n",
    "        end -= 1  # Move right pointer backward\n"
   ]
  },
  {
   "cell_type": "code",
   "execution_count": 61,
   "metadata": {},
   "outputs": [
    {
     "name": "stdout",
     "output_type": "stream",
     "text": [
      "[1, 2, 4]\n"
     ]
    }
   ],
   "source": [
    "# plus one probelem \n",
    "# Input: digits = [1,2,3]\n",
    "# Output: [1,2,4]\n",
    "# Explanation: The array represents the integer 123.\n",
    "# Incrementing by one gives 123 + 1 = 124.\n",
    "# Thus, the result should be [1,2,4].\n",
    "\n",
    "digits = [1,2,3]\n",
    "number = 0\n",
    "for i in range(0,len(digits)):\n",
    "    number = number*10 + digits[i]\n",
    "list1 = [int(digit) for digit in str(number + 1)]\n",
    "print(list1)\n"
   ]
  },
  {
   "cell_type": "code",
   "execution_count": 62,
   "metadata": {},
   "outputs": [],
   "source": [
    "# list = sort that list but with one loop \n"
   ]
  },
  {
   "cell_type": "code",
   "execution_count": 63,
   "metadata": {},
   "outputs": [
    {
     "name": "stdout",
     "output_type": "stream",
     "text": [
      "[2, 3, 4, 5, 8]\n"
     ]
    }
   ],
   "source": [
    "def sort_with_one_loop(arr):\n",
    "    i = 0\n",
    "    for _ in range(len(arr)**2):  # Ensures enough iterations\n",
    "        if i == len(arr) - 1:\n",
    "            break  # List is sorted if we reach the end\n",
    "        if arr[i] > arr[i + 1]:\n",
    "            arr[i], arr[i + 1] = arr[i + 1], arr[i]  # Swap if out of order\n",
    "            i = max(0, i - 1)  # Step back to recheck previous elements\n",
    "        else:\n",
    "            i += 1  # Move forward\n",
    "    return arr\n",
    "\n",
    "# Example usage\n",
    "arr = [5, 3, 8, 4, 2]\n",
    "print(sort_with_one_loop(arr))\n"
   ]
  },
  {
   "cell_type": "code",
   "execution_count": 64,
   "metadata": {},
   "outputs": [
    {
     "name": "stdout",
     "output_type": "stream",
     "text": [
      "[3, 7, 5, 2, 6]\n"
     ]
    }
   ],
   "source": [
    "# you have been given two list having same number of elements and you have to merge \n",
    "# both the list by removing the duplicate elements and return the merged list with a \n",
    "# single loop dont use zip and enuerate \n",
    "\n",
    "list1 = [3,5,6,3,5]\n",
    "list2 = [7,2,3,4,5]\n",
    "list3 = []\n",
    "for i in range(len(list1)):\n",
    "    if list1[i] not in list3:\n",
    "        list3.append(list1[i])\n",
    "        if list2[i] not in list3:\n",
    "            list3.append(list2[i])\n",
    "print(list3)"
   ]
  },
  {
   "cell_type": "code",
   "execution_count": 65,
   "metadata": {},
   "outputs": [
    {
     "name": "stdout",
     "output_type": "stream",
     "text": [
      "[[-1, -1, 2], [-1, 0, 1]]\n"
     ]
    }
   ],
   "source": [
    "nums = [-1, 0, 1, 2, -1, -4]\n",
    "triplets = []\n",
    "nums.sort()  # Sort the array in non-decreasing order\n",
    "n = len(nums)\n",
    "\n",
    "for i in range(n - 2):\n",
    "    # Skip duplicates for the first element\n",
    "    if i > 0 and nums[i] == nums[i - 1]:\n",
    "        continue\n",
    "\n",
    "    left, right = i + 1, n - 1\n",
    "\n",
    "    while left < right:\n",
    "        total = nums[i] + nums[left] + nums[right]\n",
    "\n",
    "        if total == 0:\n",
    "            triplets.append([nums[i], nums[left], nums[right]])\n",
    "\n",
    "            # Skip duplicates for the second element\n",
    "            while left < right and nums[left] == nums[left + 1]:\n",
    "                left += 1\n",
    "            # Skip duplicates for the third element\n",
    "            while left < right and nums[right] == nums[right - 1]:\n",
    "                right -= 1\n",
    "\n",
    "            left += 1\n",
    "            right -= 1\n",
    "        elif total < 0:\n",
    "            left += 1\n",
    "        else:\n",
    "            right -= 1\n",
    "\n",
    "print(triplets)\n"
   ]
  },
  {
   "cell_type": "code",
   "execution_count": 66,
   "metadata": {},
   "outputs": [
    {
     "name": "stdout",
     "output_type": "stream",
     "text": [
      "[[-1, 0, 1], [-1, -1, 2]]\n"
     ]
    }
   ],
   "source": [
    "nums = [-1, 0, 1, 2, -1, -4]\n",
    "target = 0\n",
    "triplets = []\n",
    "\n",
    "n = len(nums)\n",
    "for i in range(n - 2):\n",
    "    for j in range(i + 1, n - 1):\n",
    "        for k in range(j + 1, n):\n",
    "            if nums[i] + nums[j] + nums[k] == target:\n",
    "                triplet = sorted([nums[i], nums[j], nums[k]])\n",
    "                if triplet not in triplets:  \n",
    "                    triplets.append(triplet)\n",
    "\n",
    "print(triplets)"
   ]
  },
  {
   "cell_type": "code",
   "execution_count": 67,
   "metadata": {},
   "outputs": [],
   "source": [
    "# how to sort an array?"
   ]
  },
  {
   "cell_type": "code",
   "execution_count": 68,
   "metadata": {},
   "outputs": [
    {
     "name": "stdout",
     "output_type": "stream",
     "text": [
      "[-4, -1, -1, 0, 1, 2]\n",
      "-1 -1 2 (1, 2, 5)\n",
      "-1 0 1 (1, 3, 4)\n",
      "-1 0 1 (2, 3, 4)\n"
     ]
    }
   ],
   "source": [
    "nums = [-1, 0, 1, 2, -1, -4]\n",
    "nums.sort()\n",
    "print(nums)\n",
    "target = []\n",
    "for  i in range(0 , len(nums)-2):\n",
    "    start = i+1\n",
    "    end = len(nums)-1\n",
    "    while(start<end):\n",
    "        if (nums[i] + nums[start] +nums[end] == 0):                     \n",
    "            print(nums[i], nums[start] ,nums[end],(i,start ,end))\n",
    "            start+=1\n",
    "            end-=1\n",
    "        elif(nums[i] + nums[start] +nums[end]>0):\n",
    "            end-=1\n",
    "        else:\n",
    "            start+=1"
   ]
  },
  {
   "cell_type": "code",
   "execution_count": 69,
   "metadata": {},
   "outputs": [
    {
     "name": "stdout",
     "output_type": "stream",
     "text": [
      "[10, 25, 14, 6, 8, 1, 78, 521, 654, 2]\n",
      "[654, 521, 78, 6, 8, 1, 10, 14, 25, 2]\n"
     ]
    }
   ],
   "source": [
    "list1 = [10,25,14,6,8,1,78,521,8,654,1,2,521]\n",
    "list2 = []\n",
    "cleaned = []\n",
    "k=2\n",
    "# second highest value\n",
    "# k highest \n",
    "\n",
    "for i in list1:\n",
    "    if i not in cleaned:\n",
    "        cleaned.append(i)\n",
    "print(cleaned)\n",
    "\n",
    "# start = 0\n",
    "# end = len(cleaned)-1\n",
    "\n",
    "# for i in range(0 , len(cleaned)):\n",
    "#     for j in range(i+1 , len(cleaned)):\n",
    "#         if cleaned[i] < cleaned[j]:\n",
    "#             cleaned[i], cleaned[j] = cleaned[j], cleaned[i]\n",
    "# print(cleaned)\n",
    "            \n",
    "# print(cleaned[k-1])\n",
    "\n",
    "for i in range(0,len(cleaned)):\n",
    "    if k>=i :\n",
    "        for j in range(i+1 , len(cleaned)):\n",
    "            if cleaned[i] < cleaned[j]:\n",
    "                 cleaned[i], cleaned[j] = cleaned[j], cleaned[i]\n",
    "print(cleaned)"
   ]
  },
  {
   "cell_type": "code",
   "execution_count": 70,
   "metadata": {},
   "outputs": [],
   "source": [
    "# dictionary : key : value pairs\n",
    "# why we use dictionary?\n",
    "# time complexity of dictionary is O(1)\n",
    "# key specific \n",
    "# value can be duplicate or unique\n",
    "# we can use dictionary to store data in a more efficient way\n",
    "\n",
    "# key will always be of immutable type like int, float, str, tuple, etc.\n",
    " "
   ]
  },
  {
   "cell_type": "code",
   "execution_count": 71,
   "metadata": {},
   "outputs": [
    {
     "name": "stdout",
     "output_type": "stream",
     "text": [
      "{10: 'isha', 'rollno': 99}\n",
      "{'rollno': 99} isha\n",
      "{} ('rollno', 99)\n"
     ]
    }
   ],
   "source": [
    "mydic = {10:\"isha\" , \"rollno\":[90,100]}\n",
    "mydic[\"rollno\"] = 99\n",
    "print(mydic)  \n",
    "\n",
    "# removing in dic\n",
    "x = mydic.pop(10)\n",
    "print(mydic , x)   # output: {'rollno': 99}  # rollno is\n",
    "\n",
    "y= mydic.popitem()\n",
    "print(mydic , y)  # output: {'rollno': 99}  # roll"
   ]
  },
  {
   "cell_type": "code",
   "execution_count": 72,
   "metadata": {},
   "outputs": [
    {
     "data": {
      "text/plain": [
       "{10: 'isha', 20: 'aman'}"
      ]
     },
     "execution_count": 72,
     "metadata": {},
     "output_type": "execute_result"
    }
   ],
   "source": [
    "# tuples to dic \n",
    "data = [(10 ,\"isha\") , (20 , \"aman\")]\n",
    "dict(data)\n",
    "# but it only takes only 2 values in the tuple , \n",
    "# if we have more than 2 values in the tuple then it will throw an error"
   ]
  },
  {
   "cell_type": "code",
   "execution_count": 73,
   "metadata": {},
   "outputs": [],
   "source": [
    "# dictionary comp\n",
    "# list comprehension\n",
    "# set comprehension"
   ]
  },
  {
   "cell_type": "code",
   "execution_count": 74,
   "metadata": {},
   "outputs": [
    {
     "name": "stdout",
     "output_type": "stream",
     "text": [
      "['X', 'I', 'I']\n"
     ]
    }
   ],
   "source": [
    "char = ['M', 'CM', 'D', 'CD', 'C', 'XC', 'L', 'XL', 'X', 'IX', 'V', 'IV', 'I']\n",
    "val = [1000, 900, 500, 400, 100, 90, 50, 40, 10, 9, 5, 4, 1]\n",
    "ans = []\n",
    "num = 12\n",
    "for i in range(len(val)):\n",
    "    while num >= val[i]:\n",
    "        num -= val[i]\n",
    "        ans.append(char[i])\n",
    "print(ans)\n",
    "       \n"
   ]
  },
  {
   "cell_type": "code",
   "execution_count": 75,
   "metadata": {},
   "outputs": [
    {
     "name": "stdout",
     "output_type": "stream",
     "text": [
      "{40, 10, 20, 30}\n"
     ]
    }
   ],
   "source": [
    "# set \n",
    "# datatype\n",
    "# unique\n",
    "# unorderd\n",
    "\n",
    "# empty set \n",
    "\n",
    "myset = set({})\n",
    "myset = {10,20,30,40}\n",
    "print(myset)  \n",
    "\n"
   ]
  },
  {
   "cell_type": "code",
   "execution_count": 76,
   "metadata": {},
   "outputs": [
    {
     "name": "stdout",
     "output_type": "stream",
     "text": [
      "{70, 40, 10, 80, 50, 20, 60, 30}\n"
     ]
    }
   ],
   "source": [
    "myset.add(50)\n",
    "myset.update({60,70,80}) #uses iterable\n",
    "print(myset)  "
   ]
  },
  {
   "cell_type": "code",
   "execution_count": 77,
   "metadata": {},
   "outputs": [
    {
     "name": "stdout",
     "output_type": "stream",
     "text": [
      "{40, 10, 80, 50, 20, 60, 30}\n"
     ]
    }
   ],
   "source": [
    "myset.pop()\n",
    "print(myset)"
   ]
  },
  {
   "cell_type": "code",
   "execution_count": 78,
   "metadata": {},
   "outputs": [
    {
     "name": "stdout",
     "output_type": "stream",
     "text": [
      "{40, 10, 80, 50, 60, 30}\n"
     ]
    }
   ],
   "source": [
    "# for specific element delete \n",
    "myset.remove(20)\n",
    "print(myset)  "
   ]
  },
  {
   "cell_type": "code",
   "execution_count": 79,
   "metadata": {},
   "outputs": [
    {
     "data": {
      "text/plain": [
       "{10, 20, 30}"
      ]
     },
     "execution_count": 79,
     "metadata": {},
     "output_type": "execute_result"
    }
   ],
   "source": [
    "myset = {10,20,30,40,50}\n",
    "myset2 = {40,50,60}\n",
    "myset.union(myset2)\n",
    "\n",
    "myset.difference(myset2)\n"
   ]
  },
  {
   "cell_type": "code",
   "execution_count": 80,
   "metadata": {},
   "outputs": [
    {
     "data": {
      "text/plain": [
       "False"
      ]
     },
     "execution_count": 80,
     "metadata": {},
     "output_type": "execute_result"
    }
   ],
   "source": [
    "myset = {10,20,30,40,50}\n",
    "myset2 = {40,50,60}\n",
    "myset.issubset(myset2)"
   ]
  },
  {
   "cell_type": "code",
   "execution_count": 81,
   "metadata": {},
   "outputs": [
    {
     "data": {
      "text/plain": [
       "True"
      ]
     },
     "execution_count": 81,
     "metadata": {},
     "output_type": "execute_result"
    }
   ],
   "source": [
    "myset = {10,20,30,40,50}\n",
    "myset2 = {30,40,50}\n",
    "myset.issuperset(myset2)"
   ]
  },
  {
   "cell_type": "code",
   "execution_count": 82,
   "metadata": {},
   "outputs": [
    {
     "name": "stdout",
     "output_type": "stream",
     "text": [
      "[0, 1, 2, 3, 4, 5, 6, 7, 8, 9]\n",
      "{1, 2, 3, 4, 5, 6, 7, 8, 9}\n",
      "{1: 1, 2: 1, 3: 1, 4: 1, 5: 1, 6: 1, 7: 1, 8: 1, 9: 1}\n"
     ]
    }
   ],
   "source": [
    "# list comp\n",
    "\n",
    "# why  = makes code more readable\n",
    "\n",
    "# mylist = []\n",
    "# for i in range(10):\n",
    "#     mylist.append(i)\n",
    "# print(mylist)\n",
    "\n",
    "x = [ i for i in range (10) ] # list comp\n",
    "print(x) # [0, 1, 2, 3, 4,\n",
    "\n",
    "y={i for i in range(1,10)} #set comp\n",
    "print(y) # {1, 2, 3, 4, 5,\n",
    "\n",
    "z = {i:1 for i in range(1,10)} #dict comp\n",
    "print(z) # {1: 1, 2: 1, 3:"
   ]
  },
  {
   "cell_type": "code",
   "execution_count": 83,
   "metadata": {},
   "outputs": [],
   "source": [
    "# list vs tuple \n",
    "# two diff rent data types in python\n",
    "# list is mutable and tuple is immutable\n",
    "# list is ordered collection of items which can be of any data type\n",
    "# tuple is also ordered collection of items which can be of any data type\n",
    "# but it is immutable\n",
    "# list is denoted by [] and tuple is denoted by ()\n",
    "# list is mutable so we can change its value after it is created\n",
    "# tuple is immutable so we cannot change its value after it is created\n",
    "\n"
   ]
  },
  {
   "cell_type": "code",
   "execution_count": 84,
   "metadata": {},
   "outputs": [],
   "source": [
    "# list vs dictionary\n",
    "# list is ordered, mutable, and indexed\n",
    "# dictionary is unordered, mutable, and key-value pairs\n",
    "# time taken to insert "
   ]
  },
  {
   "cell_type": "code",
   "execution_count": 85,
   "metadata": {},
   "outputs": [
    {
     "name": "stdout",
     "output_type": "stream",
     "text": [
      "True\n",
      "False\n"
     ]
    }
   ],
   "source": [
    "# membership operators and identity operators\n",
    "# membership operators: in, not in\n",
    "list1 = [1,2,3,4]\n",
    "print(1 in list1)\n",
    "print(1 not in list1)"
   ]
  },
  {
   "cell_type": "code",
   "execution_count": 86,
   "metadata": {},
   "outputs": [
    {
     "name": "stdout",
     "output_type": "stream",
     "text": [
      "140726558796504 140726558796504\n"
     ]
    },
    {
     "data": {
      "text/plain": [
       "True"
      ]
     },
     "execution_count": 86,
     "metadata": {},
     "output_type": "execute_result"
    }
   ],
   "source": [
    "# identity op = check memory address \n",
    "x = 10 \n",
    "a = x\n",
    "print(id(a) ,id(x)) # output: 140730151314976\n",
    "x is a "
   ]
  },
  {
   "cell_type": "code",
   "execution_count": 87,
   "metadata": {},
   "outputs": [],
   "source": [
    "x = 10 \n",
    "a = 10 \n",
    "\n",
    "# 0 -256 number are strored in cache\n",
    "#  memory so the range(0-255) num memory add is same \n",
    "\n",
    "# if x = 257\n",
    "# y = 257\n",
    "# print(id(a) , id(x))\n",
    "# memory address is same\n"
   ]
  },
  {
   "cell_type": "code",
   "execution_count": 88,
   "metadata": {},
   "outputs": [
    {
     "name": "stdout",
     "output_type": "stream",
     "text": [
      "2267909085456 2267909085456\n"
     ]
    },
    {
     "data": {
      "text/plain": [
       "True"
      ]
     },
     "execution_count": 88,
     "metadata": {},
     "output_type": "execute_result"
    }
   ],
   "source": [
    "x = 257\n",
    "a = x \n",
    "print(id(a) , id(x))\n",
    "a is x \n",
    "# call by object refernce \n",
    "# the mem add of a and x is same\n"
   ]
  },
  {
   "cell_type": "code",
   "execution_count": 89,
   "metadata": {},
   "outputs": [],
   "source": [
    "# functions\n",
    "#  collection of satements that perform a specific task\n",
    "# write logic use it multiple times \n",
    "# code reusablity "
   ]
  },
  {
   "cell_type": "code",
   "execution_count": 90,
   "metadata": {},
   "outputs": [],
   "source": [
    "def func():\n",
    "    # logic\n",
    "    pass\n",
    "\n",
    "# def is a keyword"
   ]
  },
  {
   "cell_type": "code",
   "execution_count": 91,
   "metadata": {},
   "outputs": [
    {
     "name": "stdout",
     "output_type": "stream",
     "text": [
      "hey tushar\n"
     ]
    }
   ],
   "source": [
    "def func():\n",
    "    print(\"hey tushar\")\n",
    "\n",
    "func()"
   ]
  },
  {
   "cell_type": "code",
   "execution_count": 92,
   "metadata": {},
   "outputs": [
    {
     "name": "stdout",
     "output_type": "stream",
     "text": [
      "uebg 10\n"
     ]
    }
   ],
   "source": [
    "def func():\n",
    "    x1 = 10\n",
    "    print(\"uebg\",x1)\n",
    "\n",
    "func()\n",
    "# print(x1) error\n",
    "# x1 is a local variavle \n",
    "\n",
    "# scope  = where a variable is accessible to \n"
   ]
  },
  {
   "cell_type": "code",
   "execution_count": 93,
   "metadata": {},
   "outputs": [
    {
     "name": "stdout",
     "output_type": "stream",
     "text": [
      "uebg 10 500\n",
      "20\n"
     ]
    }
   ],
   "source": [
    "y = 20\n",
    "def func():\n",
    "    x1 = 10\n",
    "    y = 500    # y is changed locally so it is shown as 500 in the local scope\n",
    "    print(\"uebg\",x1,y)\n",
    "\n",
    "func()\n",
    "print(y) # global variable y \n",
    "# changes the value of y outside the function is affected all over the program\n",
    "# "
   ]
  },
  {
   "cell_type": "code",
   "execution_count": 94,
   "metadata": {},
   "outputs": [
    {
     "name": "stdout",
     "output_type": "stream",
     "text": [
      "uebg 10 500\n",
      "500\n"
     ]
    }
   ],
   "source": [
    "y = 20\n",
    "def func():\n",
    "    x1 = 10\n",
    "    global y    # y is changed globaly so it is shown as 500 in the global scope\n",
    "    y = 500\n",
    "    print(\"uebg\",x1,y)\n",
    "\n",
    "func()\n",
    "print(y)"
   ]
  },
  {
   "cell_type": "code",
   "execution_count": 95,
   "metadata": {},
   "outputs": [
    {
     "name": "stdout",
     "output_type": "stream",
     "text": [
      "hey 20\n",
      "hey aman\n"
     ]
    }
   ],
   "source": [
    "def func(z):\n",
    "    # x = input(\"hey : \") user gives input\n",
    "    # parameter are variable that accepts the value \n",
    "    # from the user and gives to the func\n",
    "    # z is a parameter that accepts the value from user\n",
    "    print(\"hey\",z)\n",
    "\n",
    "func(20)\n",
    "func(\"aman\")"
   ]
  },
  {
   "cell_type": "code",
   "execution_count": 96,
   "metadata": {},
   "outputs": [
    {
     "name": "stdout",
     "output_type": "stream",
     "text": [
      "hey 20\n",
      "hey aman\n"
     ]
    }
   ],
   "source": [
    "# typehinting \n",
    "def func(z:int): # here :int is type hint, only gives information to the user\n",
    "    print(\"hey\",z)\n",
    "\n",
    "func(20)\n",
    "func(\"aman\")"
   ]
  },
  {
   "cell_type": "code",
   "execution_count": 97,
   "metadata": {},
   "outputs": [
    {
     "name": "stdout",
     "output_type": "stream",
     "text": [
      "hey 20\n",
      "hey aman\n"
     ]
    }
   ],
   "source": [
    "\n",
    "def func(z:int): # parameter\n",
    "    print(\"hey\",z)\n",
    "\n",
    "func(20)  # argument \n",
    "func(\"aman\")"
   ]
  },
  {
   "cell_type": "code",
   "execution_count": 98,
   "metadata": {},
   "outputs": [],
   "source": [
    "# keyword argument and default arguments \n",
    "# variable length arguments and keyword variable length arguments\n",
    "# high order functions and first class functions\n"
   ]
  },
  {
   "cell_type": "code",
   "execution_count": 99,
   "metadata": {},
   "outputs": [
    {
     "name": "stdout",
     "output_type": "stream",
     "text": [
      "Hello, my name is Aman and I am 25 years old.\n",
      "I have the following hobbies:\n",
      "Reading\n",
      "Cycling\n",
      "I have the following skills:\n",
      "Python: Intermediate\n",
      "Java: Beginner\n"
     ]
    }
   ],
   "source": [
    "# keyword argument and default arguments \n",
    "# keyword argumentare used to pass arguments by keyword\n",
    "# default arguments are used to assign a default value to an argument if it is not passed \n",
    "\n",
    "# variable length arguments: *args and **kwargs\n",
    "# *args is used to pass a variable number of non-keyword arguments\n",
    "# **kwargs is used to pass a variable number of keyword arguments\n",
    "\n",
    "# for example:\n",
    "def greet(name, age, *args, **kwargs):\n",
    "    print(f\"Hello, my name is {name} and I am {age} years old.\")\n",
    "    print(\"I have the following hobbies:\")\n",
    "    for hobby in args:\n",
    "        print(hobby)\n",
    "    print(\"I have the following skills:\")\n",
    "    for skill, level in kwargs.items():\n",
    "        print(f\"{skill}: {level}\")\n",
    "\n",
    "greet(\"Aman\", 25, \"Reading\", \"Cycling\", Python=\"Intermediate\", Java=\"Beginner\")"
   ]
  },
  {
   "cell_type": "code",
   "execution_count": 100,
   "metadata": {},
   "outputs": [
    {
     "data": {
      "text/plain": [
       "10"
      ]
     },
     "execution_count": 100,
     "metadata": {},
     "output_type": "execute_result"
    }
   ],
   "source": [
    "# high order functions and first class functions\n",
    "# high order functions are functions that take other functions as arguments\n",
    "# first class functions are functions that can be passed around like any other object\n",
    "# they can be returned from other functions, passed as arguments to other functions, and stored in data\n",
    "# structures.\n",
    "\n",
    "# for example: \n",
    "def add(x, y):\n",
    "    return x + y\n",
    "# this is a first class function because it can be passed around like any other object\n",
    "# it can be returned from other functions, passed as arguments to other functions, and stored in data\n",
    "\n",
    "add(9,1)"
   ]
  },
  {
   "cell_type": "code",
   "execution_count": 101,
   "metadata": {},
   "outputs": [],
   "source": [
    "# required arguments = arguments that must be passed to the function\n",
    "# positional arguments = arguments for a sepecific position in the function\n",
    "# keyword arguments = multiple arguments that can be passed with a keyword\n",
    "# default arguments  =  arguments that can be passed with a default value\n",
    "# variable len arguments  = *args  = variable number of arguments\n",
    "# variable keyword arguments = **kwargs = arguments that can be passed with a keyword and a variable number of arguments\n",
    "\n",
    "# asign func to variable \n",
    "# func to func argu \n",
    "#  func to datastr "
   ]
  },
  {
   "cell_type": "code",
   "execution_count": 102,
   "metadata": {},
   "outputs": [
    {
     "name": "stdout",
     "output_type": "stream",
     "text": [
      "<function func at 0x0000021009DA4CC0>\n"
     ]
    }
   ],
   "source": [
    "# lambda func : anonymous func:\n",
    "# one line func \n",
    "#  makes code readable \n",
    "\n",
    "def func(x):\n",
    "    print(\"Hello, World!\")\n",
    "\n",
    "print(func)"
   ]
  },
  {
   "cell_type": "code",
   "execution_count": 103,
   "metadata": {},
   "outputs": [
    {
     "data": {
      "text/plain": [
       "<function __main__.<lambda>(x)>"
      ]
     },
     "execution_count": 103,
     "metadata": {},
     "output_type": "execute_result"
    }
   ],
   "source": [
    "lambda x : \"abc\"   #memory add sme as func"
   ]
  },
  {
   "cell_type": "code",
   "execution_count": 104,
   "metadata": {},
   "outputs": [
    {
     "data": {
      "text/plain": [
       "'abc'"
      ]
     },
     "execution_count": 104,
     "metadata": {},
     "output_type": "execute_result"
    }
   ],
   "source": [
    "u1 = lambda x : \"abc\"   \n",
    "#  u1 makes this high order function\n",
    "u1(10)"
   ]
  },
  {
   "cell_type": "code",
   "execution_count": 105,
   "metadata": {},
   "outputs": [
    {
     "name": "stdout",
     "output_type": "stream",
     "text": [
      "aman\n"
     ]
    }
   ],
   "source": [
    "def func(x):\n",
    "    print(x.split(\" \")[-1]) # prints the last word in the string\n",
    "\n",
    "func(\"hey aman\")\n",
    "# split the string into words\n"
   ]
  },
  {
   "cell_type": "code",
   "execution_count": 106,
   "metadata": {},
   "outputs": [
    {
     "data": {
      "text/plain": [
       "'aman'"
      ]
     },
     "execution_count": 106,
     "metadata": {},
     "output_type": "execute_result"
    }
   ],
   "source": [
    "u2 = lambda x: x.split(\" \")[-1]  \n",
    "u2(\"hey aman\") "
   ]
  },
  {
   "cell_type": "code",
   "execution_count": 107,
   "metadata": {},
   "outputs": [
    {
     "name": "stdout",
     "output_type": "stream",
     "text": [
      "['user', 'here', 'tushar', 'hey']\n"
     ]
    }
   ],
   "source": [
    "s = \"hey tushar here user\" \n",
    "# user tushar here hey \n",
    "\n",
    "# \"\".join([\"hey user\"])  = used to join the list of strings into a single string\n",
    "x = s.split(\" \")\n",
    "print(list(reversed(x)))\n",
    "\n",
    "# print(x[-1] , x[1:len(x-1)] ,x[0])"
   ]
  },
  {
   "cell_type": "code",
   "execution_count": 108,
   "metadata": {},
   "outputs": [
    {
     "name": "stdout",
     "output_type": "stream",
     "text": [
      "('inside', 18)\n"
     ]
    }
   ],
   "source": [
    "def func(a):\n",
    "    return \"inside\",a\n",
    "\n",
    "func(18)\n",
    "print(func(18))\n",
    "\n",
    "# print do not return anything, it just prints the output to the screen. \n",
    "# So, it does not return any value.\n",
    "# return is used to return a value from a function. So, it returns a value."
   ]
  },
  {
   "cell_type": "code",
   "execution_count": 109,
   "metadata": {},
   "outputs": [
    {
     "name": "stdout",
     "output_type": "stream",
     "text": [
      "('inside', 18)\n"
     ]
    }
   ],
   "source": [
    "def func(a):\n",
    "    return \"inside\",a\n",
    "\n",
    "x = func(18) #assigned the return value of func(18) to x\n",
    "print(x) #prints \"inside 18\"  "
   ]
  },
  {
   "cell_type": "code",
   "execution_count": 110,
   "metadata": {},
   "outputs": [],
   "source": [
    "def func(a):\n",
    "    return a+5"
   ]
  },
  {
   "cell_type": "code",
   "execution_count": 111,
   "metadata": {},
   "outputs": [
    {
     "name": "stdout",
     "output_type": "stream",
     "text": [
      "6\n",
      "7\n",
      "8\n"
     ]
    }
   ],
   "source": [
    "mylist  = [ 1, 2, 3, 4, 5]\n",
    "x = map(func , mylist)\n",
    "print(next(x)) # only prints the first element of the map object\n",
    "print(next(x)) # prints the second element of the map object\n",
    "print(next(x)) # prints the third element of the map object\n",
    "# print(next(x)) # raises StopIteration exception"
   ]
  },
  {
   "cell_type": "code",
   "execution_count": 112,
   "metadata": {},
   "outputs": [
    {
     "name": "stdout",
     "output_type": "stream",
     "text": [
      "6\n",
      "7\n"
     ]
    }
   ],
   "source": [
    "x = map(lambda a : a+5 , mylist) \n",
    "print(next(x))\n",
    "print(next(x))\n"
   ]
  },
  {
   "cell_type": "code",
   "execution_count": 113,
   "metadata": {},
   "outputs": [
    {
     "name": "stdout",
     "output_type": "stream",
     "text": [
      "True\n",
      "True\n",
      "False\n"
     ]
    }
   ],
   "source": [
    "list1 = [34,46,757,8,8]\n",
    "x = map(lambda a: a%2==0  ,list1)\n",
    "print(next(x))\n",
    "print(next(x))\n",
    "print(next(x))"
   ]
  },
  {
   "cell_type": "code",
   "execution_count": 114,
   "metadata": {},
   "outputs": [
    {
     "data": {
      "text/plain": [
       "[34, 46, 8, 8]"
      ]
     },
     "execution_count": 114,
     "metadata": {},
     "output_type": "execute_result"
    }
   ],
   "source": [
    "list1 = [34,46,757,8,8]\n",
    "list(map(lambda a: a%2==0  ,list1)) # map () function is used to apply a given function to each item of an iterable (like lists, tuples\n",
    "list(filter(lambda a:a%2== 0  , list1))  # gives rewsult based on the condition"
   ]
  },
  {
   "cell_type": "code",
   "execution_count": 115,
   "metadata": {},
   "outputs": [],
   "source": [
    "# first class function are functions which can be used as arguments to other functions \n",
    "# and also can be treated like any other variable \n",
    "# returned as value from other func \n",
    "# stored in data structures\n",
    "\n",
    "# high order function \n",
    "# takes one or more functions as an argument \n",
    "# returns a functions as its result "
   ]
  },
  {
   "cell_type": "code",
   "execution_count": 116,
   "metadata": {},
   "outputs": [
    {
     "name": "stdout",
     "output_type": "stream",
     "text": [
      "first line\n",
      "1\n",
      "second line\n",
      "2\n"
     ]
    }
   ],
   "source": [
    "# Generators\n",
    "# type of func , that remember the last  state for next call\n",
    "# used when the we want to get values only when we need them\n",
    "# uses yield keyword instead of return \n",
    "\n",
    "def func():\n",
    "    print(\"first line\")\n",
    "    yield 1\n",
    "    print(\"second line\")\n",
    "    yield 2   # if i dont write this it will give me an stop iteration error because it will think that the function is finished\n",
    "\n",
    "gen = func()\n",
    "# next(gen)\n",
    "# next(gen)\n",
    "print(next(gen))\n",
    "print(next(gen))  # StopIteration"
   ]
  },
  {
   "cell_type": "code",
   "execution_count": 117,
   "metadata": {},
   "outputs": [
    {
     "name": "stdout",
     "output_type": "stream",
     "text": [
      "0\n",
      "1\n",
      "1\n",
      "2\n",
      "3\n",
      "5\n",
      "8\n",
      "13\n",
      "21\n",
      "34\n"
     ]
    }
   ],
   "source": [
    "# fibonacci series\n",
    "# 0 , 1 , 1 , 2 , 3 , 5 , 8 , 13 \n",
    "def fibonacci(n):\n",
    "    a = 0\n",
    "    b = 1\n",
    "    \n",
    "\n",
    "    for i in range(n):\n",
    "        yield a\n",
    "        b = a + b\n",
    "        a = b - a\n",
    "\n",
    "gen = fibonacci(10) \n",
    "# next(gen)\n",
    "# next(gen)\n",
    "# next(gen)\n",
    "\n",
    "\n",
    "# how to loop over a generator\n",
    "# for loop implements a iterable protocol(iter method) (acess every item in the iterable)\n",
    "for i in gen:\n",
    "    print(i)"
   ]
  },
  {
   "cell_type": "raw",
   "metadata": {
    "vscode": {
     "languageId": "raw"
    }
   },
   "source": [
    "raw coding for the function\n",
    "n = 10 \n",
    "a = 0\n",
    "b = 1\n",
    "\n",
    "# a = b \n",
    "# b = b+a\n",
    "\n",
    "for  i in range(n):\n",
    "    b = a+b\n",
    "    a = b-a\n",
    "    print(b)\n",
    "\n",
    "\n"
   ]
  },
  {
   "cell_type": "code",
   "execution_count": 137,
   "metadata": {},
   "outputs": [],
   "source": [
    "# iterable and iterator ?\n",
    "# iterable is an object which we can iterate over, like list, tuple, dict etc.\n",
    "# iterator is an object which implements the iterator protocol, \n",
    "# which means it defines the __iter__() and __next__() methods. "
   ]
  },
  {
   "cell_type": "code",
   "execution_count": 136,
   "metadata": {},
   "outputs": [],
   "source": [
    "# decorators : @ name of the first function\n",
    "# generators : yield keyword\n",
    "# functions : return keyword"
   ]
  },
  {
   "cell_type": "code",
   "execution_count": null,
   "metadata": {},
   "outputs": [],
   "source": [
    "# decorator  = change or modifications \n",
    "# design pattern which alloes us to add a functionality to a object without changing  its sturcture\n",
    "\n",
    "# these are functions witch can change the behaviour of another function without changing \n",
    "# the original function"
   ]
  },
  {
   "cell_type": "code",
   "execution_count": null,
   "metadata": {},
   "outputs": [
    {
     "name": "stdout",
     "output_type": "stream",
     "text": [
      "6\n"
     ]
    }
   ],
   "source": [
    "# decorator function \n",
    "def func_add(num):\n",
    "    return num+1 \n",
    "\n",
    "x = func_add(5) # first class function call \n",
    "print(x)  "
   ]
  },
  {
   "cell_type": "code",
   "execution_count": null,
   "metadata": {},
   "outputs": [
    {
     "name": "stdout",
     "output_type": "stream",
     "text": [
      "10\n"
     ]
    }
   ],
   "source": [
    "# decorator function \n",
    "def func_add(num):\n",
    "    def add_one(n):\n",
    "        print(n)\n",
    "    # return \"abc\" # this is for func_add\n",
    "    return add_one  # \n",
    "\n",
    "\n",
    "output = func_add(10) # first class function call  \n",
    "output() # no output because add_one is not called yet (required argument )"
   ]
  },
  {
   "cell_type": "code",
   "execution_count": null,
   "metadata": {},
   "outputs": [
    {
     "name": "stdout",
     "output_type": "stream",
     "text": [
      "19 10\n"
     ]
    }
   ],
   "source": [
    "# decorator function \n",
    "def func_add(num):\n",
    "    def add_one(n): \n",
    "        print(n , num) # lexical scope \n",
    "    # return \"abc\" # this is for func_add\n",
    "    return add_one  # \n",
    "\n",
    "\n",
    "output = func_add(10) # first class function call  \n",
    "output(19)"
   ]
  },
  {
   "cell_type": "code",
   "execution_count": null,
   "metadata": {},
   "outputs": [],
   "source": [
    "#  closures and decorators   ******************************\n",
    "\n",
    "#  1. closures : basically a function that remembers the environment of outer func \n",
    "#  any inner func can access the variable of outer func even after outer func has returned or closed \n",
    "\n",
    "# 2. decorators :  basically a function that takes another function as an argument and extends\n",
    "#  the behavior of the latter function without permanently modifying it.\n",
    "\n"
   ]
  },
  {
   "cell_type": "code",
   "execution_count": null,
   "metadata": {},
   "outputs": [
    {
     "name": "stdout",
     "output_type": "stream",
     "text": [
      "10\n"
     ]
    }
   ],
   "source": [
    "# decorator function \n",
    "def func_add(num):\n",
    "    def add_one(): \n",
    "        print(num) # num is a local variable here # \n",
    "    # return \"abc\" # this is for func_add\n",
    "    return add_one  # \n",
    "\n",
    "\n",
    "output = func_add(10) # first class function call  \n",
    "output()"
   ]
  },
  {
   "cell_type": "code",
   "execution_count": null,
   "metadata": {},
   "outputs": [
    {
     "data": {
      "text/plain": [
       "'TEST'"
      ]
     },
     "execution_count": 134,
     "metadata": {},
     "output_type": "execute_result"
    }
   ],
   "source": [
    "# decorator function \n",
    "def func_add( func ):\n",
    "    def add_one():\n",
    "        result = func()\n",
    "        result2 = result.upper()\n",
    "        return result2  # returns the result of func()=test()\n",
    "    return add_one  \n",
    "\n",
    "# normal function\n",
    "#  changing the functionality of test () function using decorator function\n",
    "def test():\n",
    "    return \"TesT\" # this is for test\n",
    "\n",
    "\n",
    "test = func_add(test)# func as a argument , high order function\n",
    "test()"
   ]
  },
  {
   "cell_type": "code",
   "execution_count": null,
   "metadata": {},
   "outputs": [
    {
     "data": {
      "text/plain": [
       "'TEST'"
      ]
     },
     "execution_count": 135,
     "metadata": {},
     "output_type": "execute_result"
    }
   ],
   "source": [
    "def func_add( func ):\n",
    "    def add_one():\n",
    "        result = func() # returns the result of func()=test()\n",
    "        result2 = result.upper() # converts the result to uppercase logic\n",
    "        return result2  # returns the result of the function\n",
    "    return add_one  \n",
    "\n",
    "# normal function\n",
    "#  changing the functionality of test () function using decorator function\n",
    "@func_add # decorator function\n",
    "def test():\n",
    "    return \"TesT\" # this is for test\n",
    "\n",
    "\n",
    "test() # calling the test function directly "
   ]
  },
  {
   "cell_type": "code",
   "execution_count": null,
   "metadata": {},
   "outputs": [],
   "source": [
    "# what are generators in python?\n",
    "# it is a function that produces an iterator that produces a sequence of results instead of computing them all at once and returning them in a list, or other data structure.\n"
   ]
  },
  {
   "cell_type": "markdown",
   "metadata": {},
   "source": [
    "# OOps : object oriented programming system \n",
    "# object : a real world entity , instance of a class\n",
    "# charaterstics : attributes\n",
    "# behaviour : methods\n",
    "\n",
    "# class : blueprint or template for creating objects\n",
    "# collection of objects are called class\n",
    "# "
   ]
  },
  {
   "cell_type": "code",
   "execution_count": 1,
   "metadata": {},
   "outputs": [],
   "source": [
    "class StudentRegister:\n",
    "    sName = 'aman'\n",
    "    sEmail = 'aman77@gamal.com'"
   ]
  },
  {
   "cell_type": "code",
   "execution_count": 2,
   "metadata": {},
   "outputs": [
    {
     "name": "stdout",
     "output_type": "stream",
     "text": [
      "aman\n"
     ]
    }
   ],
   "source": [
    "# object object = class()\n",
    "s1 = StudentRegister()\n",
    "print(s1.sName) # obtain the value of sName attribute of s1 object"
   ]
  },
  {
   "cell_type": "code",
   "execution_count": null,
   "metadata": {},
   "outputs": [
    {
     "name": "stdout",
     "output_type": "stream",
     "text": [
      "hero\n",
      "splendor\n",
      "hero hero\n"
     ]
    }
   ],
   "source": [
    "class BikeDesign:\n",
    "    company = 'hero'\n",
    "    model = 'splendor' \n",
    "\n",
    "b1 = BikeDesign() #object creation\n",
    "b2 = BikeDesign()\n",
    "print(b1.company) #accessing attribute\n",
    "print(b2.model)\n",
    "print(b1.company , BikeDesign.company)  # here we can access the attribute using object and class name both"
   ]
  },
  {
   "cell_type": "code",
   "execution_count": null,
   "metadata": {},
   "outputs": [
    {
     "name": "stdout",
     "output_type": "stream",
     "text": [
      "hero hero\n",
      "hero hero\n"
     ]
    }
   ],
   "source": [
    "# class variable are variable associated with the class these variable \n",
    "# can be ascced by object and class \n",
    "\n",
    "# if u want to make change in the class variable \n",
    "class BikeDesign:                     # default constructor : \n",
    "    company = 'hero'\n",
    "    model = 'splendor' \n",
    "\n",
    "b1 = BikeDesign() #object creation\n",
    "# b2 = BikeDesign()\n",
    "# print(b1.company) #accessing attribute\n",
    "# print(b2.model)\n",
    "print(b1.company , BikeDesign.company)\n",
    "b1.comapny  = 'yamaha' #changing class variable\n",
    "print(b1.company , BikeDesign.company) #accessing attribute"
   ]
  },
  {
   "cell_type": "code",
   "execution_count": 10,
   "metadata": {},
   "outputs": [],
   "source": [
    "# after change by object \n",
    "class BikeDesign:\n",
    "    company  = 'hero'\n",
    "    model = 'splendor'"
   ]
  },
  {
   "cell_type": "code",
   "execution_count": null,
   "metadata": {},
   "outputs": [
    {
     "name": "stdout",
     "output_type": "stream",
     "text": [
      "bajaj hero\n"
     ]
    }
   ],
   "source": [
    "b1 = BikeDesign()\n",
    "print(b1.company , BikeDesign.company)\n",
    "b1.company = 'bajaj'\n",
    "print(b1.company , BikeDesign.company)"
   ]
  },
  {
   "cell_type": "code",
   "execution_count": null,
   "metadata": {},
   "outputs": [
    {
     "name": "stdout",
     "output_type": "stream",
     "text": [
      "bikes model is created <__main__.BikeDesign object at 0x00000205B126DA60>\n",
      "obj ki value  <__main__.BikeDesign object at 0x00000205B126DA60>\n"
     ]
    }
   ],
   "source": [
    "# instance variable :  these are variables that are defined inside a class but outside any method. They are shared by all instances of the class.\n",
    "#  function to assign a memory location to an object of a class \n",
    "class BikeDesign:\n",
    "    company  = 'hero'\n",
    "    def __init__(self ):       # parameterised constructor : constructer made by user \n",
    "        print(\"bikes model is created\" , self)\n",
    "\n",
    "\n",
    "b1 = BikeDesign()\n",
    "print(\"obj ki value \" , b1)"
   ]
  },
  {
   "cell_type": "code",
   "execution_count": 17,
   "metadata": {},
   "outputs": [
    {
     "name": "stdout",
     "output_type": "stream",
     "text": [
      "bikes model is created <__main__.BikeDesign object at 0x00000205B126EF60>\n",
      "obj ki value  <__main__.BikeDesign object at 0x00000205B126EF60>\n"
     ]
    }
   ],
   "source": [
    "b2 = BikeDesign()\n",
    "print(\"obj ki value \" , b2)"
   ]
  },
  {
   "cell_type": "code",
   "execution_count": null,
   "metadata": {},
   "outputs": [],
   "source": [
    "# parameterised constructor\n",
    "# default constructor\n",
    "# self is a variable that stores the current obj refernce\n",
    "# can we change the self to any other value = yes \n",
    "# instance varible /  object varible\n",
    "# local variable\n",
    "# self?\n",
    "# consturtor = ?\n",
    "# class variable = ?\n",
    "# super () = ?\n",
    "# constotor :  constructor is a special func of class which is used to initialize the memory  of an object\n",
    "\n"
   ]
  },
  {
   "cell_type": "code",
   "execution_count": null,
   "metadata": {},
   "outputs": [
    {
     "name": "stdout",
     "output_type": "stream",
     "text": [
      "bikes model is created :  splendor\n",
      "splendor\n",
      "bikes model is created :  shine\n",
      "shine\n"
     ]
    }
   ],
   "source": [
    "class BikeDesign:\n",
    "    company  = 'hero'\n",
    "    def __init__(self , model):       # parameterised constructor : constructer made by user \n",
    "        self.model = model  # instance variable : variable made with self keyword \n",
    "        print(\"bikes model is created : \" , model)\n",
    "\n",
    "\n",
    "b1 = BikeDesign('splendor') # chaged the model name to splendor by user\n",
    "print(b1.model)\n",
    "b2 = BikeDesign('shine')\n",
    "print(b2.model)      \n",
    "# b1 and b2 are objects of BikeDesign class\n",
    "\n",
    "\n",
    "#print(model)  # model is not defined here so it will give an error\n",
    "# print(\"obj ki value \" , b1)\n",
    "# constotor :  constructor is a special func of class which is used to initialize the memory  of an object"
   ]
  },
  {
   "cell_type": "code",
   "execution_count": 27,
   "metadata": {},
   "outputs": [
    {
     "name": "stdout",
     "output_type": "stream",
     "text": [
      "bikes model is created :  splendor\n",
      "splendor hero\n",
      "bikes model is created :  shine\n",
      "shine\n"
     ]
    }
   ],
   "source": [
    "class BikeDesign:\n",
    "    company  = 'hero'\n",
    "    def __init__(self , model):       # parameterised constructor : constructer made by user \n",
    "        self.model = model             # instance variable : variable made with self keyword  , \n",
    "                                         # model  = local variable ,\n",
    "                                        # self.model = instance variable  , self.model = attribute of class BikeDesign\n",
    "        print(\"bikes model is created : \" , model)\n",
    "\n",
    "\n",
    "b1 = BikeDesign('splendor') # chaged the model name to splendor by user\n",
    "print(b1.model , b1.company ) , #BikeDesign.model) # here BikeDesign.model is class variable and cannont be accesed by object b1 .\n",
    "b2 = BikeDesign('shine')\n",
    "print(b2.model)"
   ]
  },
  {
   "cell_type": "code",
   "execution_count": null,
   "metadata": {},
   "outputs": [
    {
     "data": {
      "text/plain": [
       "'Student ID: 11, Name: aman, Email: vjbwr;o;bwo , College: regex '"
      ]
     },
     "execution_count": 33,
     "metadata": {},
     "output_type": "execute_result"
    }
   ],
   "source": [
    "class Student:\n",
    "    college = 'regex' # class variable \n",
    "    def __init__(self ,sid, name ,email ): # instance variables\n",
    "        self.sid = sid\n",
    "        self.name = name\n",
    "        self.email = email\n",
    "\n",
    "    def info(self):   # instance method : a method declared inside a class \n",
    "        return f\"Student ID: {self.sid}, Name: {self.name}, Email: { self.email} , College: {self.college} \"\n",
    "\n",
    "s1 = Student(10 , \"tushar \" , \" sinevoewnvoe\")\n",
    "s1.info()\n",
    "s2 = Student(11 , 'aman' , \"vjbwr;o;bwo\")\n",
    "# print(s1.sid)\n",
    "\n",
    "# s1.info()\n",
    "s2.info()\n",
    "\n"
   ]
  },
  {
   "cell_type": "code",
   "execution_count": 39,
   "metadata": {},
   "outputs": [
    {
     "data": {
      "text/plain": [
       "\"gk'nwrewb@\""
      ]
     },
     "execution_count": 39,
     "metadata": {},
     "output_type": "execute_result"
    }
   ],
   "source": [
    "# inheritance : acessing parent class attributes \n",
    "# super / parent / inherited  class : accessing parent class methods\n",
    "# parent / child relation \n",
    "class CollegeAdmission(Student):\n",
    "    def __init__(self , x,y,z,subject):\n",
    "        self.subject = subject \n",
    "        super().__init__(x,y,z)  # accessing parent class attributes \n",
    "        # x = sid\n",
    "        # y = name\n",
    "        # z = marks\n",
    "\n",
    "c1 = CollegeAdmission( 19 , \"yash\" , \"gk'nwrewb@\" , \"sci\")\n",
    "c1.sid\n",
    "c1.name\n",
    "c1.email"
   ]
  },
  {
   "cell_type": "code",
   "execution_count": 43,
   "metadata": {},
   "outputs": [
    {
     "data": {
      "text/plain": [
       "'aman@gamail'"
      ]
     },
     "execution_count": 43,
     "metadata": {},
     "output_type": "execute_result"
    }
   ],
   "source": [
    "class CollegeAdmission(Student):\n",
    "    def __init__(self , sid,name,email,subject):\n",
    "        self.subject = subject \n",
    "        super().__init__(sid,name, email)  # accessing parent class attributes \n",
    "        # x = sid , instance variable , cause it is inside the class definition\n",
    "        # y = name , instance variable , cause it is inside the class definition\n",
    "        # z = marks , instance variable , cause it is inside the class definition\n",
    "        # sellf.subject = local variable , cause it is inside the method definition\n",
    "\n",
    "c1 = CollegeAdmission( 19 , \"yash\" , \"aman@gamail\" , \"sci\")\n",
    "c1.email"
   ]
  },
  {
   "cell_type": "code",
   "execution_count": null,
   "metadata": {},
   "outputs": [],
   "source": [
    "#  method overloading vs overriding \n",
    "#  multilevel vs multiple inheritance (self prog)\n",
    "#  can we overload the constuoctor in python ?  ***** if no how to override "
   ]
  },
  {
   "cell_type": "code",
   "execution_count": null,
   "metadata": {},
   "outputs": [
    {
     "name": "stdout",
     "output_type": "stream",
     "text": [
      "This is the parent class.\n",
      "This is the child class.\n"
     ]
    }
   ],
   "source": [
    "# method override\n",
    "class Parent:\n",
    "    def show(self):\n",
    "        print(\"This is the parent class.\")\n",
    "\n",
    "class Child(Parent):\n",
    "    def show(self):  # Overriding the parent method\n",
    "        print(\"This is the child class.\")\n",
    "\n",
    "# Creating objects\n",
    "p = Parent()\n",
    "p.show()  # Output: This is the parent class.\n",
    "\n",
    "c = Child()\n",
    "c.show()  # Output: This is the child class.\n"
   ]
  },
  {
   "cell_type": "code",
   "execution_count": null,
   "metadata": {},
   "outputs": [],
   "source": [
    "# method overloading : method overloading is a method in which two or more methods have same method name but different parameters.\n",
    "# python dose not support method overloading by default but we can achieve it by using *args and **kwargs in python.\n",
    "\n",
    " \n",
    "# method overloading is not supported in python but we can achieve it by using *args and **kwargs \n",
    "\n",
    "# method overriding : method overriding is a method in which two or more methods have same method name and same parameters but different implementation."
   ]
  },
  {
   "cell_type": "code",
   "execution_count": null,
   "metadata": {},
   "outputs": [],
   "source": [
    "# polymorphism : many forms\n",
    "# method overriding : method with same name but different parameters\n",
    "# method overloading : method with same name but different parameters and different return types\n",
    "# operator overloading : operator with same name but different parameters and different return types"
   ]
  },
  {
   "cell_type": "code",
   "execution_count": null,
   "metadata": {},
   "outputs": [
    {
     "name": "stdout",
     "output_type": "stream",
     "text": [
      "Student 1 register regex\n"
     ]
    }
   ],
   "source": [
    "# polymorphism by inheritance : achiving polymorphism by using inheritance\n",
    "class student:\n",
    "    college = 'regex'\n",
    "    def info(self, x):\n",
    "        print(f\"Student {x} class\")\n",
    "\n",
    "class StudentRegister(student): # StudentRegister is a subclass of student\n",
    "    def info(self,x):    # overriding the method info() of the parent class \n",
    "        print(f\"Student {x} register\" , student.college)\n",
    "\n",
    "sr1 = StudentRegister()\n",
    "sr1.info(1)  \n",
    "    \n"
   ]
  },
  {
   "cell_type": "code",
   "execution_count": null,
   "metadata": {},
   "outputs": [],
   "source": [
    "# functions works from bottom to top , inheritance too "
   ]
  },
  {
   "cell_type": "code",
   "execution_count": 18,
   "metadata": {},
   "outputs": [],
   "source": [
    "# operator overloading \n",
    "# __init__ consturcor dose not return any value\n",
    "# __reper__ returns string representation of the object\n",
    "# dunder functions are used to create custom objects in python all function __withthis__ are called dunder functions\n",
    "# magic function or special function or special method or dunder method are used to create custom objects in python\n"
   ]
  },
  {
   "cell_type": "code",
   "execution_count": 12,
   "metadata": {},
   "outputs": [
    {
     "name": "stdout",
     "output_type": "stream",
     "text": [
      "add no as total of 10 and 20 is 30\n",
      "add no as total of 10 and 90 is 100\n"
     ]
    }
   ],
   "source": [
    "class addno:\n",
    "    def __init__(self, num1, num2):\n",
    "        self.num1 = num1\n",
    "        self.num2 = num2\n",
    "        self.total = num1 + num2\n",
    "\n",
    "    def __repr__(self): # here the reper method is used to print the result of the addition\n",
    "        return f\"add no as total of {self.num1} and {self.num2} is {self.total}\"\n",
    "    \n",
    "a1 = addno(10, 20)\n",
    "a2 = addno(10,90)\n",
    "print(a1)  # Output: add no as total of 10 and 20 is 30\n",
    "print(a2)  # Output: add no as total of 10 and 90 is"
   ]
  },
  {
   "cell_type": "code",
   "execution_count": null,
   "metadata": {},
   "outputs": [],
   "source": [
    "# addidtion of objects \n",
    "# a1+a2 : this will not work for objects that are not in the same class\n",
    "# __add__ is a dunder method that can be used to add two objects of the same class"
   ]
  },
  {
   "cell_type": "code",
   "execution_count": 17,
   "metadata": {},
   "outputs": [
    {
     "name": "stdout",
     "output_type": "stream",
     "text": [
      "add no as total of 10 and 20 is 30\n",
      "add no as total of 10 and 90 is 100\n",
      "hey add no as total of 10 and 90 is 100\n"
     ]
    }
   ],
   "source": [
    "class addno:\n",
    "    def __init__(self, num1, num2):\n",
    "        self.num1 = num1\n",
    "        self.num2 = num2\n",
    "        self.total = num1 + num2\n",
    "\n",
    "    def __repr__(self): # here the reper method is used to print the result of the addition\n",
    "        return f\"add no as total of {self.num1} and {self.num2} is {self.total}\"\n",
    "    \n",
    "    def __add__(self , x): # self = a1 and x = a2 . x is a overloading of the + operator\n",
    "        print(\"hey\", x)\n",
    "    \n",
    "a1 = addno(10, 20)\n",
    "a2 = addno(10,90)\n",
    "print(a1)  # Output: add no as total of 10 and 20 is 30\n",
    "print(a2)\n",
    "# a1 and a2 are two objects of the class addno\n",
    "a1+a2  #a1.__add__(a2),  # we have changed the __add__ method working (polymorphism)\n",
    "\n",
    "\n",
    "# we have overloaded the __add__ function to  add two objects of the class addno "
   ]
  },
  {
   "cell_type": "code",
   "execution_count": null,
   "metadata": {},
   "outputs": [],
   "source": []
  }
 ],
 "metadata": {
  "kernelspec": {
   "display_name": "base",
   "language": "python",
   "name": "python3"
  },
  "language_info": {
   "codemirror_mode": {
    "name": "ipython",
    "version": 3
   },
   "file_extension": ".py",
   "mimetype": "text/x-python",
   "name": "python",
   "nbconvert_exporter": "python",
   "pygments_lexer": "ipython3",
   "version": "3.12.7"
  }
 },
 "nbformat": 4,
 "nbformat_minor": 2
}
