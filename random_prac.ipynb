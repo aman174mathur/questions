{
 "cells": [
  {
   "cell_type": "code",
   "execution_count": null,
   "metadata": {},
   "outputs": [
    {
     "name": "stdout",
     "output_type": "stream",
     "text": [
      "[1, 3, 'abc']\n"
     ]
    }
   ],
   "source": [
    "list1 = [1,3]\n",
    "list2  = ['abc']\n",
    "list1.extend(list2)\n",
    "\n",
    "print(list1)"
   ]
  },
  {
   "cell_type": "code",
   "execution_count": 13,
   "metadata": {},
   "outputs": [
    {
     "name": "stdout",
     "output_type": "stream",
     "text": [
      "     1 \n",
      "    2 3 \n",
      "   4 5 6 \n",
      "  7 8 9 10 \n",
      " 11 12 13 14 15 \n"
     ]
    }
   ],
   "source": [
    "n = 5\n",
    "num = 1\n",
    "for i in range(n):\n",
    "    for j in range(n-i):\n",
    "        print(\" \", end=\"\")\n",
    "    for k in range(i+1):\n",
    "        print(num, end =\" \")\n",
    "        num+=1\n",
    "    print()"
   ]
  },
  {
   "cell_type": "code",
   "execution_count": null,
   "metadata": {},
   "outputs": [
    {
     "name": "stdout",
     "output_type": "stream",
     "text": [
      "{0: 1, 1: 2, 2: 3}\n"
     ]
    }
   ],
   "source": [
    "# dic = {0:1 , 1:2 , 2:3}\n",
    "dic = {i: i+1 for i in range(3)}\n",
    "# dic = {key : value for iteration in iterable}\n",
    "print(dic)\n",
    "\n"
   ]
  },
  {
   "cell_type": "code",
   "execution_count": 16,
   "metadata": {},
   "outputs": [
    {
     "name": "stdout",
     "output_type": "stream",
     "text": [
      "[(1, 10), (2, 20), (3, 30)]\n"
     ]
    }
   ],
   "source": [
    "list1  = [1,2,3]\n",
    "list2 = [10,20,30]\n",
    "\n",
    "list3 = [(x, y) for x, y in zip(list1, list2)]\n",
    "print(list3)"
   ]
  },
  {
   "cell_type": "code",
   "execution_count": 28,
   "metadata": {},
   "outputs": [
    {
     "name": "stdout",
     "output_type": "stream",
     "text": [
      "['a', 'm', 'a', 'n', 'm', 'a', 't', 'h', 'u', 'r']\n"
     ]
    }
   ],
   "source": [
    "string = 'amanmathur'\n",
    "list1 = []\n",
    "def splitting_name(string):\n",
    "    for i in range(len(string)):\n",
    "        list1.append(string[i])\n",
    "    print(list1)\n",
    "\n",
    "splitting_name('amanmathur')\n",
    "\n"
   ]
  },
  {
   "cell_type": "code",
   "execution_count": 32,
   "metadata": {},
   "outputs": [
    {
     "name": "stdout",
     "output_type": "stream",
     "text": [
      "['a', 'm', 'a', 'n', 'm', 'a', 't', 'h', 'u', 'r']\n"
     ]
    }
   ],
   "source": [
    "string = 'amanmathur'\n",
    "list1 = [x for x in string.strip()]\n",
    "print(list1)"
   ]
  },
  {
   "cell_type": "code",
   "execution_count": 35,
   "metadata": {},
   "outputs": [
    {
     "name": "stdout",
     "output_type": "stream",
     "text": [
      "animal speaks Dog\n"
     ]
    }
   ],
   "source": [
    "class Animal():\n",
    "    def __init__(self, sound):\n",
    "        self.sound = sound\n",
    "    def speak(self):\n",
    "        print(\"animal speaks\", self.sound)\n",
    "\n",
    "a1 = Animal(\"Dog\")\n",
    "a1.speak()  # Output: animal speaks Dog\n"
   ]
  },
  {
   "cell_type": "code",
   "execution_count": 38,
   "metadata": {},
   "outputs": [
    {
     "name": "stdout",
     "output_type": "stream",
     "text": [
      "Animal speaking\n",
      "Dog barking\n"
     ]
    }
   ],
   "source": [
    "# method overriding example\n",
    "class Animal:\n",
    "    def __init__(self, name, age):\n",
    "        self.name = name\n",
    "        self.age = age\n",
    "    def speak(self):\n",
    "        print(\"Animal speaking\")\n",
    "class Dog(Animal):\n",
    "    def __init__(self, name, age):\n",
    "        super().__init__(name, age)\n",
    "    def speak(self):\n",
    "        print(\"Dog barking\")\n",
    "\n",
    "a1 = Animal(\"Dog\", 12)\n",
    "a1.speak()  # Output: Animal speaking\n",
    "# Output: Animal speaking because we are calling the speak method from the Animal class\n",
    "d1 = Dog(\"Buddy\", 5)\n",
    "d1.speak()  # Output: Dog barking"
   ]
  },
  {
   "cell_type": "code",
   "execution_count": 1,
   "metadata": {},
   "outputs": [
    {
     "name": "stdout",
     "output_type": "stream",
     "text": [
      "[2, 8]\n"
     ]
    }
   ],
   "source": [
    "matrix = [[1, 2, 3], [4, 5, 6], [7, 8, 9]]\n",
    "filtered = [row[1] for row in matrix if row[1] % 2 == 0]\n",
    "print(filtered)  # Output: [2, 6, 8]"
   ]
  },
  {
   "cell_type": "code",
   "execution_count": null,
   "metadata": {},
   "outputs": [],
   "source": [
    "# "
   ]
  }
 ],
 "metadata": {
  "kernelspec": {
   "display_name": "base",
   "language": "python",
   "name": "python3"
  },
  "language_info": {
   "codemirror_mode": {
    "name": "ipython",
    "version": 3
   },
   "file_extension": ".py",
   "mimetype": "text/x-python",
   "name": "python",
   "nbconvert_exporter": "python",
   "pygments_lexer": "ipython3",
   "version": "3.12.7"
  }
 },
 "nbformat": 4,
 "nbformat_minor": 2
}
